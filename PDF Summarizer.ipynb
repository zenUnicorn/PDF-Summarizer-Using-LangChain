{
 "cells": [
  {
   "cell_type": "code",
   "execution_count": null,
   "id": "d8a250fe",
   "metadata": {},
   "outputs": [],
   "source": []
  },
  {
   "cell_type": "code",
   "execution_count": 3,
   "id": "d26f0709",
   "metadata": {},
   "outputs": [],
   "source": [
    "from langchain.document_loaders import PyPDFLoader\n",
    "import gradio as gr\n",
    "\n",
    "loader = PyPDFLoader(\"whitepaper.pdf\") \n",
    "documents = loader.load()"
   ]
  },
  {
   "cell_type": "code",
   "execution_count": 2,
   "id": "dd5d19ad",
   "metadata": {},
   "outputs": [],
   "source": [
    "def summarize_pdf (pdf_file_path, custom_prompt=\"\"):\n",
    "    loader = PyPDFLoader(pdf_file_path)\n",
    "    docs = loader.load_and_split()\n",
    "    chain = load_summarize_chain(llm, chain_type=\"map_reduce\")\n",
    "    summary = chain.run(docs)\n",
    "    \n",
    "    return summary\n"
   ]
  },
  {
   "cell_type": "code",
   "execution_count": 4,
   "id": "b727f7fb",
   "metadata": {},
   "outputs": [],
   "source": [
    "def main():\n",
    "    input_pdf_path = gr.inputs.Textbox(label=\"Enter the PDF file path\")\n",
    "    output_summary = gr.outputs.Textbox(label=\"Summary\")\n",
    "    \n",
    "    interface = gr.Interface(\n",
    "        fn = summarize_pdf,\n",
    "        inputs = input_pdf_path,\n",
    "        outputs = output_summary,\n",
    "        title = \"PDF Summarizer\",\n",
    "        description = \"This app allows you to summarize your PDF files.\",\n",
    "    ).launch(share=True)"
   ]
  },
  {
   "cell_type": "code",
   "execution_count": 5,
   "id": "13a9e14a",
   "metadata": {},
   "outputs": [
    {
     "name": "stderr",
     "output_type": "stream",
     "text": [
      "/var/folders/2r/k93hrhyd7b15wtqt79cqs0vr0000gn/T/ipykernel_12805/518144153.py:2: GradioDeprecationWarning: Usage of gradio.inputs is deprecated, and will not be supported in the future, please import your component from gradio.components\n",
      "  input_pdf_path = gr.inputs.Textbox(label=\"Enter the PDF file path\")\n",
      "/var/folders/2r/k93hrhyd7b15wtqt79cqs0vr0000gn/T/ipykernel_12805/518144153.py:2: GradioDeprecationWarning: `optional` parameter is deprecated, and it has no effect\n",
      "  input_pdf_path = gr.inputs.Textbox(label=\"Enter the PDF file path\")\n",
      "/var/folders/2r/k93hrhyd7b15wtqt79cqs0vr0000gn/T/ipykernel_12805/518144153.py:2: GradioDeprecationWarning: `numeric` parameter is deprecated, and it has no effect\n",
      "  input_pdf_path = gr.inputs.Textbox(label=\"Enter the PDF file path\")\n",
      "/var/folders/2r/k93hrhyd7b15wtqt79cqs0vr0000gn/T/ipykernel_12805/518144153.py:3: GradioDeprecationWarning: Usage of gradio.outputs is deprecated, and will not be supported in the future, please import your components from gradio.components\n",
      "  output_summary = gr.outputs.Textbox(label=\"Summary\")\n"
     ]
    },
    {
     "name": "stdout",
     "output_type": "stream",
     "text": [
      "Running on local URL:  http://127.0.0.1:7860\n",
      "Running on public URL: https://64404346b700ba83ea.gradio.live\n",
      "\n",
      "This share link expires in 72 hours. For free permanent hosting and GPU upgrades, run `gradio deploy` from Terminal to deploy to Spaces (https://huggingface.co/spaces)\n"
     ]
    },
    {
     "data": {
      "text/html": [
       "<div><iframe src=\"https://64404346b700ba83ea.gradio.live\" width=\"100%\" height=\"500\" allow=\"autoplay; camera; microphone; clipboard-read; clipboard-write;\" frameborder=\"0\" allowfullscreen></iframe></div>"
      ],
      "text/plain": [
       "<IPython.core.display.HTML object>"
      ]
     },
     "metadata": {},
     "output_type": "display_data"
    }
   ],
   "source": [
    "main()"
   ]
  },
  {
   "cell_type": "markdown",
   "id": "c8ac7686",
   "metadata": {},
   "source": [
    "GitHub: https://github.com/zenUnicorn/PDF-Summarizer-Using-LangChain/"
   ]
  },
  {
   "cell_type": "code",
   "execution_count": null,
   "id": "71a8620a",
   "metadata": {},
   "outputs": [],
   "source": []
  }
 ],
 "metadata": {
  "kernelspec": {
   "display_name": "Python 3 (ipykernel)",
   "language": "python",
   "name": "python3"
  },
  "language_info": {
   "codemirror_mode": {
    "name": "ipython",
    "version": 3
   },
   "file_extension": ".py",
   "mimetype": "text/x-python",
   "name": "python",
   "nbconvert_exporter": "python",
   "pygments_lexer": "ipython3",
   "version": "3.9.9"
  }
 },
 "nbformat": 4,
 "nbformat_minor": 5
}
